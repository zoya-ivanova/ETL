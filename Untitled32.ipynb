{
  "nbformat": 4,
  "nbformat_minor": 0,
  "metadata": {
    "colab": {
      "provenance": [],
      "mount_file_id": "1yDwGqr3LZHxIpuhtvq-jseRrXM0gSmpb",
      "authorship_tag": "ABX9TyPOIc3foF78ahps4i1fbT+k",
      "include_colab_link": true
    },
    "kernelspec": {
      "name": "python3",
      "display_name": "Python 3"
    },
    "language_info": {
      "name": "python"
    }
  },
  "cells": [
    {
      "cell_type": "markdown",
      "metadata": {
        "id": "view-in-github",
        "colab_type": "text"
      },
      "source": [
        "<a href=\"https://colab.research.google.com/github/zoya-ivanova/ETL/blob/Sem_1/Untitled32.ipynb\" target=\"_parent\"><img src=\"https://colab.research.google.com/assets/colab-badge.svg\" alt=\"Open In Colab\"/></a>"
      ]
    },
    {
      "cell_type": "markdown",
      "source": [
        "##Введение в подготовку данных для аналитиков. Таблицы фактов и таблицы измерений\n",
        "###1. Скачайте датасет fifаs2.сsv.<br>\n",
        "###Проанализируйте его и определите, какие данные являются неполными.<br> Удалите ненужные колонки и недостающие значения.\n"
      ],
      "metadata": {
        "id": "5HGkOVhrfOu0"
      }
    },
    {
      "cell_type": "code",
      "source": [
        "import pandas as pd\n",
        "import matplotlib\n",
        "import numpy as np"
      ],
      "metadata": {
        "id": "ugO7PzlqgOM1"
      },
      "execution_count": 15,
      "outputs": []
    },
    {
      "cell_type": "code",
      "source": [
        "#Подгружаем данные с гугл диска\n",
        "\n",
        "from google.colab import drive\n",
        "drive.mount(\"/content/drive\", force_remount=True)"
      ],
      "metadata": {
        "colab": {
          "base_uri": "https://localhost:8080/"
        },
        "id": "Ri_oedeLfsxj",
        "outputId": "d82f7f25-2dfa-408e-988e-6dcf127aae70"
      },
      "execution_count": 4,
      "outputs": [
        {
          "output_type": "stream",
          "name": "stdout",
          "text": [
            "Mounted at /content/drive\n"
          ]
        }
      ]
    },
    {
      "cell_type": "code",
      "execution_count": 13,
      "metadata": {
        "id": "IUCJR_A8fHOX",
        "colab": {
          "base_uri": "https://localhost:8080/",
          "height": 591
        },
        "outputId": "9a484bc8-79e5-4856-a1c2-ddef8bbd4c93"
      },
      "outputs": [
        {
          "output_type": "execute_result",
          "data": {
            "text/plain": [
              "      ID               Name  Age  Nationality  Overall  Potential  \\\n",
              "0   1179          G. Buffon   40        Italy       88         88   \n",
              "1   5479           Casillas   37        Spain       82         82   \n",
              "2   8205              Braga   35     Portugal       70         70   \n",
              "3   9014          A. Robben   34  Netherlands       84         84   \n",
              "4  19521          J. Ibehre   35      England       61         61   \n",
              "5  20209      Ricardo Costa   37     Portugal       74         74   \n",
              "6  20801  Cristiano Ronaldo   33     Portugal       94         94   \n",
              "7  24630         Pepe Reina   35        Spain       83         83   \n",
              "8  27532        D. de Vries   37  Netherlands       66         66   \n",
              "9  45083      S. von Bergen   35  Switzerland       73         73   \n",
              "\n",
              "                  Club    Value  Wage Preferred Foot  \\\n",
              "0  Paris Saint-Germain   4000.0    77          Right   \n",
              "1             FC Porto   1500.0    10           Left   \n",
              "2              CD Aves    750.0     5          Right   \n",
              "3    FC Bayern München  15500.0   110           Left   \n",
              "4     Cambridge United    120.0     2          Right   \n",
              "5           CD Tondela    750.0     4          Right   \n",
              "6             Juventus  77000.0   405          Right   \n",
              "7                Milan   6000.0    56          Right   \n",
              "8               Celtic     40.0     7          Right   \n",
              "9       BSC Young Boys    950.0    12          Right   \n",
              "\n",
              "   International Reputation  Skill Moves Position  Joined  \\\n",
              "0                       4.0          1.0       GK    2018   \n",
              "1                       4.0          1.0      NaN    2015   \n",
              "2                       1.0          3.0      LCM    2017   \n",
              "3                       4.0          4.0       RM    2009   \n",
              "4                       1.0          2.0       ST    2017   \n",
              "5                       2.0          2.0      LCB    2017   \n",
              "6                       5.0          5.0       ST    2018   \n",
              "7                       3.0          1.0       GK    2018   \n",
              "8                       1.0          1.0       GK    2016   \n",
              "9                       2.0          2.0      LCB    2013   \n",
              "\n",
              "  Contract Valid Until    Height  Weight  Release Clause  \n",
              "0           01/01/2019  6.333333   203.0          7400.0  \n",
              "1           01/01/2019  6.083333   185.0          3000.0  \n",
              "2           01/01/2019  5.916667   165.0          1600.0  \n",
              "3           01/01/2019  5.916667   176.0         25600.0  \n",
              "4           01/01/2019  6.333333   203.0           210.0  \n",
              "5           01/01/2019  6.000000   181.0          1600.0  \n",
              "6           01/01/2022  6.166667   183.0        127100.0  \n",
              "7                  NaN  6.166667   203.0         10200.0  \n",
              "8           01/01/2019  6.250000   212.0            72.0  \n",
              "9           01/01/2022  6.000000   174.0          1400.0  "
            ],
            "text/html": [
              "\n",
              "  <div id=\"df-9cc1b065-d85f-4524-ab7e-38f19496443f\" class=\"colab-df-container\">\n",
              "    <div>\n",
              "<style scoped>\n",
              "    .dataframe tbody tr th:only-of-type {\n",
              "        vertical-align: middle;\n",
              "    }\n",
              "\n",
              "    .dataframe tbody tr th {\n",
              "        vertical-align: top;\n",
              "    }\n",
              "\n",
              "    .dataframe thead th {\n",
              "        text-align: right;\n",
              "    }\n",
              "</style>\n",
              "<table border=\"1\" class=\"dataframe\">\n",
              "  <thead>\n",
              "    <tr style=\"text-align: right;\">\n",
              "      <th></th>\n",
              "      <th>ID</th>\n",
              "      <th>Name</th>\n",
              "      <th>Age</th>\n",
              "      <th>Nationality</th>\n",
              "      <th>Overall</th>\n",
              "      <th>Potential</th>\n",
              "      <th>Club</th>\n",
              "      <th>Value</th>\n",
              "      <th>Wage</th>\n",
              "      <th>Preferred Foot</th>\n",
              "      <th>International Reputation</th>\n",
              "      <th>Skill Moves</th>\n",
              "      <th>Position</th>\n",
              "      <th>Joined</th>\n",
              "      <th>Contract Valid Until</th>\n",
              "      <th>Height</th>\n",
              "      <th>Weight</th>\n",
              "      <th>Release Clause</th>\n",
              "    </tr>\n",
              "  </thead>\n",
              "  <tbody>\n",
              "    <tr>\n",
              "      <th>0</th>\n",
              "      <td>1179</td>\n",
              "      <td>G. Buffon</td>\n",
              "      <td>40</td>\n",
              "      <td>Italy</td>\n",
              "      <td>88</td>\n",
              "      <td>88</td>\n",
              "      <td>Paris Saint-Germain</td>\n",
              "      <td>4000.0</td>\n",
              "      <td>77</td>\n",
              "      <td>Right</td>\n",
              "      <td>4.0</td>\n",
              "      <td>1.0</td>\n",
              "      <td>GK</td>\n",
              "      <td>2018</td>\n",
              "      <td>01/01/2019</td>\n",
              "      <td>6.333333</td>\n",
              "      <td>203.0</td>\n",
              "      <td>7400.0</td>\n",
              "    </tr>\n",
              "    <tr>\n",
              "      <th>1</th>\n",
              "      <td>5479</td>\n",
              "      <td>Casillas</td>\n",
              "      <td>37</td>\n",
              "      <td>Spain</td>\n",
              "      <td>82</td>\n",
              "      <td>82</td>\n",
              "      <td>FC Porto</td>\n",
              "      <td>1500.0</td>\n",
              "      <td>10</td>\n",
              "      <td>Left</td>\n",
              "      <td>4.0</td>\n",
              "      <td>1.0</td>\n",
              "      <td>NaN</td>\n",
              "      <td>2015</td>\n",
              "      <td>01/01/2019</td>\n",
              "      <td>6.083333</td>\n",
              "      <td>185.0</td>\n",
              "      <td>3000.0</td>\n",
              "    </tr>\n",
              "    <tr>\n",
              "      <th>2</th>\n",
              "      <td>8205</td>\n",
              "      <td>Braga</td>\n",
              "      <td>35</td>\n",
              "      <td>Portugal</td>\n",
              "      <td>70</td>\n",
              "      <td>70</td>\n",
              "      <td>CD Aves</td>\n",
              "      <td>750.0</td>\n",
              "      <td>5</td>\n",
              "      <td>Right</td>\n",
              "      <td>1.0</td>\n",
              "      <td>3.0</td>\n",
              "      <td>LCM</td>\n",
              "      <td>2017</td>\n",
              "      <td>01/01/2019</td>\n",
              "      <td>5.916667</td>\n",
              "      <td>165.0</td>\n",
              "      <td>1600.0</td>\n",
              "    </tr>\n",
              "    <tr>\n",
              "      <th>3</th>\n",
              "      <td>9014</td>\n",
              "      <td>A. Robben</td>\n",
              "      <td>34</td>\n",
              "      <td>Netherlands</td>\n",
              "      <td>84</td>\n",
              "      <td>84</td>\n",
              "      <td>FC Bayern München</td>\n",
              "      <td>15500.0</td>\n",
              "      <td>110</td>\n",
              "      <td>Left</td>\n",
              "      <td>4.0</td>\n",
              "      <td>4.0</td>\n",
              "      <td>RM</td>\n",
              "      <td>2009</td>\n",
              "      <td>01/01/2019</td>\n",
              "      <td>5.916667</td>\n",
              "      <td>176.0</td>\n",
              "      <td>25600.0</td>\n",
              "    </tr>\n",
              "    <tr>\n",
              "      <th>4</th>\n",
              "      <td>19521</td>\n",
              "      <td>J. Ibehre</td>\n",
              "      <td>35</td>\n",
              "      <td>England</td>\n",
              "      <td>61</td>\n",
              "      <td>61</td>\n",
              "      <td>Cambridge United</td>\n",
              "      <td>120.0</td>\n",
              "      <td>2</td>\n",
              "      <td>Right</td>\n",
              "      <td>1.0</td>\n",
              "      <td>2.0</td>\n",
              "      <td>ST</td>\n",
              "      <td>2017</td>\n",
              "      <td>01/01/2019</td>\n",
              "      <td>6.333333</td>\n",
              "      <td>203.0</td>\n",
              "      <td>210.0</td>\n",
              "    </tr>\n",
              "    <tr>\n",
              "      <th>5</th>\n",
              "      <td>20209</td>\n",
              "      <td>Ricardo Costa</td>\n",
              "      <td>37</td>\n",
              "      <td>Portugal</td>\n",
              "      <td>74</td>\n",
              "      <td>74</td>\n",
              "      <td>CD Tondela</td>\n",
              "      <td>750.0</td>\n",
              "      <td>4</td>\n",
              "      <td>Right</td>\n",
              "      <td>2.0</td>\n",
              "      <td>2.0</td>\n",
              "      <td>LCB</td>\n",
              "      <td>2017</td>\n",
              "      <td>01/01/2019</td>\n",
              "      <td>6.000000</td>\n",
              "      <td>181.0</td>\n",
              "      <td>1600.0</td>\n",
              "    </tr>\n",
              "    <tr>\n",
              "      <th>6</th>\n",
              "      <td>20801</td>\n",
              "      <td>Cristiano Ronaldo</td>\n",
              "      <td>33</td>\n",
              "      <td>Portugal</td>\n",
              "      <td>94</td>\n",
              "      <td>94</td>\n",
              "      <td>Juventus</td>\n",
              "      <td>77000.0</td>\n",
              "      <td>405</td>\n",
              "      <td>Right</td>\n",
              "      <td>5.0</td>\n",
              "      <td>5.0</td>\n",
              "      <td>ST</td>\n",
              "      <td>2018</td>\n",
              "      <td>01/01/2022</td>\n",
              "      <td>6.166667</td>\n",
              "      <td>183.0</td>\n",
              "      <td>127100.0</td>\n",
              "    </tr>\n",
              "    <tr>\n",
              "      <th>7</th>\n",
              "      <td>24630</td>\n",
              "      <td>Pepe Reina</td>\n",
              "      <td>35</td>\n",
              "      <td>Spain</td>\n",
              "      <td>83</td>\n",
              "      <td>83</td>\n",
              "      <td>Milan</td>\n",
              "      <td>6000.0</td>\n",
              "      <td>56</td>\n",
              "      <td>Right</td>\n",
              "      <td>3.0</td>\n",
              "      <td>1.0</td>\n",
              "      <td>GK</td>\n",
              "      <td>2018</td>\n",
              "      <td>NaN</td>\n",
              "      <td>6.166667</td>\n",
              "      <td>203.0</td>\n",
              "      <td>10200.0</td>\n",
              "    </tr>\n",
              "    <tr>\n",
              "      <th>8</th>\n",
              "      <td>27532</td>\n",
              "      <td>D. de Vries</td>\n",
              "      <td>37</td>\n",
              "      <td>Netherlands</td>\n",
              "      <td>66</td>\n",
              "      <td>66</td>\n",
              "      <td>Celtic</td>\n",
              "      <td>40.0</td>\n",
              "      <td>7</td>\n",
              "      <td>Right</td>\n",
              "      <td>1.0</td>\n",
              "      <td>1.0</td>\n",
              "      <td>GK</td>\n",
              "      <td>2016</td>\n",
              "      <td>01/01/2019</td>\n",
              "      <td>6.250000</td>\n",
              "      <td>212.0</td>\n",
              "      <td>72.0</td>\n",
              "    </tr>\n",
              "    <tr>\n",
              "      <th>9</th>\n",
              "      <td>45083</td>\n",
              "      <td>S. von Bergen</td>\n",
              "      <td>35</td>\n",
              "      <td>Switzerland</td>\n",
              "      <td>73</td>\n",
              "      <td>73</td>\n",
              "      <td>BSC Young Boys</td>\n",
              "      <td>950.0</td>\n",
              "      <td>12</td>\n",
              "      <td>Right</td>\n",
              "      <td>2.0</td>\n",
              "      <td>2.0</td>\n",
              "      <td>LCB</td>\n",
              "      <td>2013</td>\n",
              "      <td>01/01/2022</td>\n",
              "      <td>6.000000</td>\n",
              "      <td>174.0</td>\n",
              "      <td>1400.0</td>\n",
              "    </tr>\n",
              "  </tbody>\n",
              "</table>\n",
              "</div>\n",
              "    <div class=\"colab-df-buttons\">\n",
              "\n",
              "  <div class=\"colab-df-container\">\n",
              "    <button class=\"colab-df-convert\" onclick=\"convertToInteractive('df-9cc1b065-d85f-4524-ab7e-38f19496443f')\"\n",
              "            title=\"Convert this dataframe to an interactive table.\"\n",
              "            style=\"display:none;\">\n",
              "\n",
              "  <svg xmlns=\"http://www.w3.org/2000/svg\" height=\"24px\" viewBox=\"0 -960 960 960\">\n",
              "    <path d=\"M120-120v-720h720v720H120Zm60-500h600v-160H180v160Zm220 220h160v-160H400v160Zm0 220h160v-160H400v160ZM180-400h160v-160H180v160Zm440 0h160v-160H620v160ZM180-180h160v-160H180v160Zm440 0h160v-160H620v160Z\"/>\n",
              "  </svg>\n",
              "    </button>\n",
              "\n",
              "  <style>\n",
              "    .colab-df-container {\n",
              "      display:flex;\n",
              "      gap: 12px;\n",
              "    }\n",
              "\n",
              "    .colab-df-convert {\n",
              "      background-color: #E8F0FE;\n",
              "      border: none;\n",
              "      border-radius: 50%;\n",
              "      cursor: pointer;\n",
              "      display: none;\n",
              "      fill: #1967D2;\n",
              "      height: 32px;\n",
              "      padding: 0 0 0 0;\n",
              "      width: 32px;\n",
              "    }\n",
              "\n",
              "    .colab-df-convert:hover {\n",
              "      background-color: #E2EBFA;\n",
              "      box-shadow: 0px 1px 2px rgba(60, 64, 67, 0.3), 0px 1px 3px 1px rgba(60, 64, 67, 0.15);\n",
              "      fill: #174EA6;\n",
              "    }\n",
              "\n",
              "    .colab-df-buttons div {\n",
              "      margin-bottom: 4px;\n",
              "    }\n",
              "\n",
              "    [theme=dark] .colab-df-convert {\n",
              "      background-color: #3B4455;\n",
              "      fill: #D2E3FC;\n",
              "    }\n",
              "\n",
              "    [theme=dark] .colab-df-convert:hover {\n",
              "      background-color: #434B5C;\n",
              "      box-shadow: 0px 1px 3px 1px rgba(0, 0, 0, 0.15);\n",
              "      filter: drop-shadow(0px 1px 2px rgba(0, 0, 0, 0.3));\n",
              "      fill: #FFFFFF;\n",
              "    }\n",
              "  </style>\n",
              "\n",
              "    <script>\n",
              "      const buttonEl =\n",
              "        document.querySelector('#df-9cc1b065-d85f-4524-ab7e-38f19496443f button.colab-df-convert');\n",
              "      buttonEl.style.display =\n",
              "        google.colab.kernel.accessAllowed ? 'block' : 'none';\n",
              "\n",
              "      async function convertToInteractive(key) {\n",
              "        const element = document.querySelector('#df-9cc1b065-d85f-4524-ab7e-38f19496443f');\n",
              "        const dataTable =\n",
              "          await google.colab.kernel.invokeFunction('convertToInteractive',\n",
              "                                                    [key], {});\n",
              "        if (!dataTable) return;\n",
              "\n",
              "        const docLinkHtml = 'Like what you see? Visit the ' +\n",
              "          '<a target=\"_blank\" href=https://colab.research.google.com/notebooks/data_table.ipynb>data table notebook</a>'\n",
              "          + ' to learn more about interactive tables.';\n",
              "        element.innerHTML = '';\n",
              "        dataTable['output_type'] = 'display_data';\n",
              "        await google.colab.output.renderOutput(dataTable, element);\n",
              "        const docLink = document.createElement('div');\n",
              "        docLink.innerHTML = docLinkHtml;\n",
              "        element.appendChild(docLink);\n",
              "      }\n",
              "    </script>\n",
              "  </div>\n",
              "\n",
              "\n",
              "<div id=\"df-0923a686-ce2e-45a8-aeac-a982b5e51f46\">\n",
              "  <button class=\"colab-df-quickchart\" onclick=\"quickchart('df-0923a686-ce2e-45a8-aeac-a982b5e51f46')\"\n",
              "            title=\"Suggest charts\"\n",
              "            style=\"display:none;\">\n",
              "\n",
              "<svg xmlns=\"http://www.w3.org/2000/svg\" height=\"24px\"viewBox=\"0 0 24 24\"\n",
              "     width=\"24px\">\n",
              "    <g>\n",
              "        <path d=\"M19 3H5c-1.1 0-2 .9-2 2v14c0 1.1.9 2 2 2h14c1.1 0 2-.9 2-2V5c0-1.1-.9-2-2-2zM9 17H7v-7h2v7zm4 0h-2V7h2v10zm4 0h-2v-4h2v4z\"/>\n",
              "    </g>\n",
              "</svg>\n",
              "  </button>\n",
              "\n",
              "<style>\n",
              "  .colab-df-quickchart {\n",
              "      --bg-color: #E8F0FE;\n",
              "      --fill-color: #1967D2;\n",
              "      --hover-bg-color: #E2EBFA;\n",
              "      --hover-fill-color: #174EA6;\n",
              "      --disabled-fill-color: #AAA;\n",
              "      --disabled-bg-color: #DDD;\n",
              "  }\n",
              "\n",
              "  [theme=dark] .colab-df-quickchart {\n",
              "      --bg-color: #3B4455;\n",
              "      --fill-color: #D2E3FC;\n",
              "      --hover-bg-color: #434B5C;\n",
              "      --hover-fill-color: #FFFFFF;\n",
              "      --disabled-bg-color: #3B4455;\n",
              "      --disabled-fill-color: #666;\n",
              "  }\n",
              "\n",
              "  .colab-df-quickchart {\n",
              "    background-color: var(--bg-color);\n",
              "    border: none;\n",
              "    border-radius: 50%;\n",
              "    cursor: pointer;\n",
              "    display: none;\n",
              "    fill: var(--fill-color);\n",
              "    height: 32px;\n",
              "    padding: 0;\n",
              "    width: 32px;\n",
              "  }\n",
              "\n",
              "  .colab-df-quickchart:hover {\n",
              "    background-color: var(--hover-bg-color);\n",
              "    box-shadow: 0 1px 2px rgba(60, 64, 67, 0.3), 0 1px 3px 1px rgba(60, 64, 67, 0.15);\n",
              "    fill: var(--button-hover-fill-color);\n",
              "  }\n",
              "\n",
              "  .colab-df-quickchart-complete:disabled,\n",
              "  .colab-df-quickchart-complete:disabled:hover {\n",
              "    background-color: var(--disabled-bg-color);\n",
              "    fill: var(--disabled-fill-color);\n",
              "    box-shadow: none;\n",
              "  }\n",
              "\n",
              "  .colab-df-spinner {\n",
              "    border: 2px solid var(--fill-color);\n",
              "    border-color: transparent;\n",
              "    border-bottom-color: var(--fill-color);\n",
              "    animation:\n",
              "      spin 1s steps(1) infinite;\n",
              "  }\n",
              "\n",
              "  @keyframes spin {\n",
              "    0% {\n",
              "      border-color: transparent;\n",
              "      border-bottom-color: var(--fill-color);\n",
              "      border-left-color: var(--fill-color);\n",
              "    }\n",
              "    20% {\n",
              "      border-color: transparent;\n",
              "      border-left-color: var(--fill-color);\n",
              "      border-top-color: var(--fill-color);\n",
              "    }\n",
              "    30% {\n",
              "      border-color: transparent;\n",
              "      border-left-color: var(--fill-color);\n",
              "      border-top-color: var(--fill-color);\n",
              "      border-right-color: var(--fill-color);\n",
              "    }\n",
              "    40% {\n",
              "      border-color: transparent;\n",
              "      border-right-color: var(--fill-color);\n",
              "      border-top-color: var(--fill-color);\n",
              "    }\n",
              "    60% {\n",
              "      border-color: transparent;\n",
              "      border-right-color: var(--fill-color);\n",
              "    }\n",
              "    80% {\n",
              "      border-color: transparent;\n",
              "      border-right-color: var(--fill-color);\n",
              "      border-bottom-color: var(--fill-color);\n",
              "    }\n",
              "    90% {\n",
              "      border-color: transparent;\n",
              "      border-bottom-color: var(--fill-color);\n",
              "    }\n",
              "  }\n",
              "</style>\n",
              "\n",
              "  <script>\n",
              "    async function quickchart(key) {\n",
              "      const quickchartButtonEl =\n",
              "        document.querySelector('#' + key + ' button');\n",
              "      quickchartButtonEl.disabled = true;  // To prevent multiple clicks.\n",
              "      quickchartButtonEl.classList.add('colab-df-spinner');\n",
              "      try {\n",
              "        const charts = await google.colab.kernel.invokeFunction(\n",
              "            'suggestCharts', [key], {});\n",
              "      } catch (error) {\n",
              "        console.error('Error during call to suggestCharts:', error);\n",
              "      }\n",
              "      quickchartButtonEl.classList.remove('colab-df-spinner');\n",
              "      quickchartButtonEl.classList.add('colab-df-quickchart-complete');\n",
              "    }\n",
              "    (() => {\n",
              "      let quickchartButtonEl =\n",
              "        document.querySelector('#df-0923a686-ce2e-45a8-aeac-a982b5e51f46 button');\n",
              "      quickchartButtonEl.style.display =\n",
              "        google.colab.kernel.accessAllowed ? 'block' : 'none';\n",
              "    })();\n",
              "  </script>\n",
              "</div>\n",
              "    </div>\n",
              "  </div>\n"
            ],
            "application/vnd.google.colaboratory.intrinsic+json": {
              "type": "dataframe",
              "variable_name": "data",
              "summary": "{\n  \"name\": \"data\",\n  \"rows\": 2399,\n  \"fields\": [\n    {\n      \"column\": \"ID\",\n      \"properties\": {\n        \"dtype\": \"number\",\n        \"std\": 30549,\n        \"min\": 1179,\n        \"max\": 246608,\n        \"num_unique_values\": 2395,\n        \"samples\": [\n          189403,\n          172904,\n          227928\n        ],\n        \"semantic_type\": \"\",\n        \"description\": \"\"\n      }\n    },\n    {\n      \"column\": \"Name\",\n      \"properties\": {\n        \"dtype\": \"string\",\n        \"num_unique_values\": 2371,\n        \"samples\": [\n          \"S. Umtiti\",\n          \"A. Piu\",\n          \"A. Gerrard\"\n        ],\n        \"semantic_type\": \"\",\n        \"description\": \"\"\n      }\n    },\n    {\n      \"column\": \"Age\",\n      \"properties\": {\n        \"dtype\": \"number\",\n        \"std\": 4,\n        \"min\": 16,\n        \"max\": 44,\n        \"num_unique_values\": 27,\n        \"samples\": [\n          39,\n          25,\n          32\n        ],\n        \"semantic_type\": \"\",\n        \"description\": \"\"\n      }\n    },\n    {\n      \"column\": \"Nationality\",\n      \"properties\": {\n        \"dtype\": \"category\",\n        \"num_unique_values\": 102,\n        \"samples\": [\n          \"Peru\",\n          \"Gabon\",\n          \"Cape Verde\"\n        ],\n        \"semantic_type\": \"\",\n        \"description\": \"\"\n      }\n    },\n    {\n      \"column\": \"Overall\",\n      \"properties\": {\n        \"dtype\": \"number\",\n        \"std\": 8,\n        \"min\": 47,\n        \"max\": 94,\n        \"num_unique_values\": 47,\n        \"samples\": [\n          75,\n          55,\n          80\n        ],\n        \"semantic_type\": \"\",\n        \"description\": \"\"\n      }\n    },\n    {\n      \"column\": \"Potential\",\n      \"properties\": {\n        \"dtype\": \"number\",\n        \"std\": 7,\n        \"min\": 48,\n        \"max\": 95,\n        \"num_unique_values\": 44,\n        \"samples\": [\n          93,\n          67,\n          85\n        ],\n        \"semantic_type\": \"\",\n        \"description\": \"\"\n      }\n    },\n    {\n      \"column\": \"Club\",\n      \"properties\": {\n        \"dtype\": \"category\",\n        \"num_unique_values\": 81,\n        \"samples\": [\n          \"CD Palestino\",\n          \"Paris Saint-Germain\",\n          \"C\\u00e1diz CF\"\n        ],\n        \"semantic_type\": \"\",\n        \"description\": \"\"\n      }\n    },\n    {\n      \"column\": \"Value\",\n      \"properties\": {\n        \"dtype\": \"number\",\n        \"std\": 11963.420680750753,\n        \"min\": 20.0,\n        \"max\": 118500.0,\n        \"num_unique_values\": 205,\n        \"samples\": [\n          20.0,\n          1800.0,\n          15000.0\n        ],\n        \"semantic_type\": \"\",\n        \"description\": \"\"\n      }\n    },\n    {\n      \"column\": \"Wage\",\n      \"properties\": {\n        \"dtype\": \"number\",\n        \"std\": 49,\n        \"min\": 0,\n        \"max\": 565,\n        \"num_unique_values\": 141,\n        \"samples\": [\n          285,\n          61,\n          51\n        ],\n        \"semantic_type\": \"\",\n        \"description\": \"\"\n      }\n    },\n    {\n      \"column\": \"Preferred Foot\",\n      \"properties\": {\n        \"dtype\": \"category\",\n        \"num_unique_values\": 2,\n        \"samples\": [\n          \"Left\",\n          \"Right\"\n        ],\n        \"semantic_type\": \"\",\n        \"description\": \"\"\n      }\n    },\n    {\n      \"column\": \"International Reputation\",\n      \"properties\": {\n        \"dtype\": \"number\",\n        \"std\": 0.6871753855940244,\n        \"min\": 1.0,\n        \"max\": 5.0,\n        \"num_unique_values\": 5,\n        \"samples\": [\n          1.0,\n          3.0\n        ],\n        \"semantic_type\": \"\",\n        \"description\": \"\"\n      }\n    },\n    {\n      \"column\": \"Skill Moves\",\n      \"properties\": {\n        \"dtype\": \"number\",\n        \"std\": 0.8445312688746285,\n        \"min\": 1.0,\n        \"max\": 5.0,\n        \"num_unique_values\": 5,\n        \"samples\": [\n          3.0,\n          5.0\n        ],\n        \"semantic_type\": \"\",\n        \"description\": \"\"\n      }\n    },\n    {\n      \"column\": \"Position\",\n      \"properties\": {\n        \"dtype\": \"category\",\n        \"num_unique_values\": 27,\n        \"samples\": [\n          \"RB\",\n          \"LB\"\n        ],\n        \"semantic_type\": \"\",\n        \"description\": \"\"\n      }\n    },\n    {\n      \"column\": \"Joined\",\n      \"properties\": {\n        \"dtype\": \"number\",\n        \"std\": 2,\n        \"min\": 2000,\n        \"max\": 2018,\n        \"num_unique_values\": 17,\n        \"samples\": [\n          2018,\n          2015\n        ],\n        \"semantic_type\": \"\",\n        \"description\": \"\"\n      }\n    },\n    {\n      \"column\": \"Contract Valid Until\",\n      \"properties\": {\n        \"dtype\": \"object\",\n        \"num_unique_values\": 16,\n        \"samples\": [\n          \"01/01/2019\",\n          \"01/01/2022\"\n        ],\n        \"semantic_type\": \"\",\n        \"description\": \"\"\n      }\n    },\n    {\n      \"column\": \"Height\",\n      \"properties\": {\n        \"dtype\": \"number\",\n        \"std\": 0.21924897108311997,\n        \"min\": 5.25,\n        \"max\": 6.583333333,\n        \"num_unique_values\": 18,\n        \"samples\": [\n          6.333333333,\n          6.083333333\n        ],\n        \"semantic_type\": \"\",\n        \"description\": \"\"\n      }\n    },\n    {\n      \"column\": \"Weight\",\n      \"properties\": {\n        \"dtype\": \"number\",\n        \"std\": 15.241015406722685,\n        \"min\": 121.0,\n        \"max\": 214.0,\n        \"num_unique_values\": 43,\n        \"samples\": [\n          137.0,\n          150.0\n        ],\n        \"semantic_type\": \"\",\n        \"description\": \"\"\n      }\n    },\n    {\n      \"column\": \"Release Clause\",\n      \"properties\": {\n        \"dtype\": \"number\",\n        \"std\": 21780.029323033566,\n        \"min\": 35.0,\n        \"max\": 228100.0,\n        \"num_unique_values\": 715,\n        \"samples\": [\n          736.0,\n          90000.0\n        ],\n        \"semantic_type\": \"\",\n        \"description\": \"\"\n      }\n    }\n  ]\n}"
            }
          },
          "metadata": {},
          "execution_count": 13
        }
      ],
      "source": [
        "data = pd.read_csv('/content/drive/MyDrive/fifa_s2.csv')\n",
        "\n",
        "data.head(10)"
      ]
    },
    {
      "cell_type": "code",
      "source": [
        "data.info()"
      ],
      "metadata": {
        "colab": {
          "base_uri": "https://localhost:8080/"
        },
        "id": "m1KE_iKCgnnc",
        "outputId": "80438085-79d7-4c3b-a4fe-3865e8464003"
      },
      "execution_count": 6,
      "outputs": [
        {
          "output_type": "stream",
          "name": "stdout",
          "text": [
            "<class 'pandas.core.frame.DataFrame'>\n",
            "RangeIndex: 2399 entries, 0 to 2398\n",
            "Data columns (total 18 columns):\n",
            " #   Column                    Non-Null Count  Dtype  \n",
            "---  ------                    --------------  -----  \n",
            " 0   ID                        2399 non-null   int64  \n",
            " 1   Name                      2399 non-null   object \n",
            " 2   Age                       2399 non-null   int64  \n",
            " 3   Nationality               2392 non-null   object \n",
            " 4   Overall                   2399 non-null   int64  \n",
            " 5   Potential                 2399 non-null   int64  \n",
            " 6   Club                      2158 non-null   object \n",
            " 7   Value                     2142 non-null   float64\n",
            " 8   Wage                      2399 non-null   int64  \n",
            " 9   Preferred Foot            2399 non-null   object \n",
            " 10  International Reputation  2389 non-null   float64\n",
            " 11  Skill Moves               2393 non-null   float64\n",
            " 12  Position                  2378 non-null   object \n",
            " 13  Joined                    2399 non-null   int64  \n",
            " 14  Contract Valid Until      2126 non-null   object \n",
            " 15  Height                    2399 non-null   float64\n",
            " 16  Weight                    2399 non-null   float64\n",
            " 17  Release Clause            2396 non-null   float64\n",
            "dtypes: float64(6), int64(6), object(6)\n",
            "memory usage: 337.5+ KB\n"
          ]
        }
      ]
    },
    {
      "cell_type": "code",
      "source": [
        "# суммарное количество пропущенных значений в каждом столбце\n",
        "data.isna().sum()"
      ],
      "metadata": {
        "colab": {
          "base_uri": "https://localhost:8080/"
        },
        "id": "-po0EUbW8bQK",
        "outputId": "924b99bd-4c1e-4c93-8c63-9f8ba78a72c5"
      },
      "execution_count": 7,
      "outputs": [
        {
          "output_type": "execute_result",
          "data": {
            "text/plain": [
              "ID                            0\n",
              "Name                          0\n",
              "Age                           0\n",
              "Nationality                   7\n",
              "Overall                       0\n",
              "Potential                     0\n",
              "Club                        241\n",
              "Value                       257\n",
              "Wage                          0\n",
              "Preferred Foot                0\n",
              "International Reputation     10\n",
              "Skill Moves                   6\n",
              "Position                     21\n",
              "Joined                        0\n",
              "Contract Valid Until        273\n",
              "Height                        0\n",
              "Weight                        0\n",
              "Release Clause                3\n",
              "dtype: int64"
            ]
          },
          "metadata": {},
          "execution_count": 7
        }
      ]
    },
    {
      "cell_type": "code",
      "source": [
        "# % пропущенных значений в каждом столбце\n",
        "data.isna().sum() / len(data)"
      ],
      "metadata": {
        "colab": {
          "base_uri": "https://localhost:8080/"
        },
        "id": "hRnm9sXdT6xv",
        "outputId": "e3f5dd96-b43b-4c9e-9ca8-31a3d7885745"
      },
      "execution_count": 8,
      "outputs": [
        {
          "output_type": "execute_result",
          "data": {
            "text/plain": [
              "ID                          0.000000\n",
              "Name                        0.000000\n",
              "Age                         0.000000\n",
              "Nationality                 0.002918\n",
              "Overall                     0.000000\n",
              "Potential                   0.000000\n",
              "Club                        0.100459\n",
              "Value                       0.107128\n",
              "Wage                        0.000000\n",
              "Preferred Foot              0.000000\n",
              "International Reputation    0.004168\n",
              "Skill Moves                 0.002501\n",
              "Position                    0.008754\n",
              "Joined                      0.000000\n",
              "Contract Valid Until        0.113797\n",
              "Height                      0.000000\n",
              "Weight                      0.000000\n",
              "Release Clause              0.001251\n",
              "dtype: float64"
            ]
          },
          "metadata": {},
          "execution_count": 8
        }
      ]
    },
    {
      "cell_type": "code",
      "source": [
        "# поменяем тип, что б уменьшить 'вес' файла\n",
        "data['Age'] = data['Age'].astype('int8')\n",
        "data['Nationality'] = data['Nationality'].astype('str')\n",
        "data['Overall'] = data['Overall'].astype('int8')\n",
        "data['Potential'] = data['Potential'].astype('int8')\n",
        "data['Club'] = data['Club'].astype('str')\n",
        "data['Wage'] = data['Wage'].astype('int8')\n",
        "data['Position'] = data['Position'].astype('str')\n",
        "data['Joined'] = data['Joined'].astype('int8')"
      ],
      "metadata": {
        "id": "MWsyncW1p5C2"
      },
      "execution_count": 11,
      "outputs": []
    },
    {
      "cell_type": "code",
      "source": [
        "# проверяем: с 337.5+ KB изменилось до 255.5+ KB\n",
        "data.info()"
      ],
      "metadata": {
        "colab": {
          "base_uri": "https://localhost:8080/"
        },
        "id": "CoGpOqzmsScq",
        "outputId": "15db3ec6-8319-417f-8419-819b6d21e7c6"
      },
      "execution_count": 12,
      "outputs": [
        {
          "output_type": "stream",
          "name": "stdout",
          "text": [
            "<class 'pandas.core.frame.DataFrame'>\n",
            "RangeIndex: 2399 entries, 0 to 2398\n",
            "Data columns (total 18 columns):\n",
            " #   Column                    Non-Null Count  Dtype  \n",
            "---  ------                    --------------  -----  \n",
            " 0   ID                        2399 non-null   int64  \n",
            " 1   Name                      2399 non-null   object \n",
            " 2   Age                       2399 non-null   int8   \n",
            " 3   Nationality               2399 non-null   object \n",
            " 4   Overall                   2399 non-null   int8   \n",
            " 5   Potential                 2399 non-null   int8   \n",
            " 6   Club                      2399 non-null   object \n",
            " 7   Value                     2142 non-null   float64\n",
            " 8   Wage                      2399 non-null   int8   \n",
            " 9   Preferred Foot            2399 non-null   object \n",
            " 10  International Reputation  2389 non-null   float64\n",
            " 11  Skill Moves               2393 non-null   float64\n",
            " 12  Position                  2399 non-null   object \n",
            " 13  Joined                    2399 non-null   int8   \n",
            " 14  Contract Valid Until      2126 non-null   object \n",
            " 15  Height                    2399 non-null   float64\n",
            " 16  Weight                    2399 non-null   float64\n",
            " 17  Release Clause            2396 non-null   float64\n",
            "dtypes: float64(6), int64(1), int8(5), object(6)\n",
            "memory usage: 255.5+ KB\n"
          ]
        }
      ]
    },
    {
      "cell_type": "code",
      "source": [
        "# еще один вариант % пропущенных значений в каждом столбце\n",
        "for col in data.columns:\n",
        "  missing_values = np.mean(data[col].isnull())\n",
        "  print('{} - {}%'.format(col, round(missing_values * 100)))"
      ],
      "metadata": {
        "colab": {
          "base_uri": "https://localhost:8080/"
        },
        "id": "RJr1OOtkx_G-",
        "outputId": "83dbd696-f785-4ec2-bd87-84b79a8b9d2d"
      },
      "execution_count": 16,
      "outputs": [
        {
          "output_type": "stream",
          "name": "stdout",
          "text": [
            "ID - 0%\n",
            "Name - 0%\n",
            "Age - 0%\n",
            "Nationality - 0%\n",
            "Overall - 0%\n",
            "Potential - 0%\n",
            "Club - 10%\n",
            "Value - 11%\n",
            "Wage - 0%\n",
            "Preferred Foot - 0%\n",
            "International Reputation - 0%\n",
            "Skill Moves - 0%\n",
            "Position - 1%\n",
            "Joined - 0%\n",
            "Contract Valid Until - 11%\n",
            "Height - 0%\n",
            "Weight - 0%\n",
            "Release Clause - 0%\n"
          ]
        }
      ]
    },
    {
      "cell_type": "code",
      "source": [
        "# гистограмма пропущенных данных\n",
        "for col in data.columns:\n",
        "  missing = data[col].isnull()\n",
        "  num_missing = np.sum(missing)\n",
        "\n",
        "  if num_missing > 0:\n",
        "    print('created missing indicator for: {}'.format(col))\n",
        "    data['{}_ismissing'.format(col)] = missing\n",
        "\n",
        "ismissing_cols = [col for col in data.columns if 'ismissing' in col]\n",
        "data['num_missing'] = data[ismissing_cols].sum(axis=1)\n",
        "data['num_missing'].value_counts().reset_index().sort_values(by='index').plot.bar(x='index', y='num_missing')"
      ],
      "metadata": {
        "colab": {
          "base_uri": "https://localhost:8080/",
          "height": 600
        },
        "id": "IbEW9KDq1O1s",
        "outputId": "9f19b756-f084-4ed5-c187-5a73e66b93ff"
      },
      "execution_count": 18,
      "outputs": [
        {
          "output_type": "stream",
          "name": "stdout",
          "text": [
            "created missing indicator for: Nationality\n",
            "created missing indicator for: Club\n",
            "created missing indicator for: Value\n",
            "created missing indicator for: International Reputation\n",
            "created missing indicator for: Skill Moves\n",
            "created missing indicator for: Position\n",
            "created missing indicator for: Contract Valid Until\n",
            "created missing indicator for: Release Clause\n"
          ]
        },
        {
          "output_type": "execute_result",
          "data": {
            "text/plain": [
              "<Axes: xlabel='index'>"
            ]
          },
          "metadata": {},
          "execution_count": 18
        },
        {
          "output_type": "display_data",
          "data": {
            "text/plain": [
              "<Figure size 640x480 with 1 Axes>"
            ],
            "image/png": "[encoded data removed]"
          },
          "metadata": {}
        }
      ]
    },
    {
      "cell_type": "code",
      "source": [
        "# заполняем значения колонок, где 10% и более пропущенных значений,\n",
        "# строковые нельзя заполнить средним значением: заполняем - не определено\n",
        "data['Nationality'] = data['Nationality'].fillna('missing')\n",
        "data['Club'] = data['Club'].fillna('missing')\n",
        "data['Contract Valid Until'] = data['Contract Valid Until'].fillna('missing')"
      ],
      "metadata": {
        "id": "FZLF3m099tO7"
      },
      "execution_count": 23,
      "outputs": []
    },
    {
      "cell_type": "code",
      "source": [
        "# заполняем значения средним (медианой), т.к оно числовое\n",
        "mediana = data['Value'].median()\n",
        "data['Value'] = data['Value'].fillna(mediana)"
      ],
      "metadata": {
        "id": "d3j-p-HiAQ2m"
      },
      "execution_count": 24,
      "outputs": []
    },
    {
      "cell_type": "code",
      "source": [
        "# проверяем\n",
        "data.isna().sum() / len(data) * 100"
      ],
      "metadata": {
        "colab": {
          "base_uri": "https://localhost:8080/"
        },
        "id": "RU8ERr5eM9nP",
        "outputId": "0c2b3034-7f72-40c6-a682-4b78488a8ad4"
      },
      "execution_count": 25,
      "outputs": [
        {
          "output_type": "execute_result",
          "data": {
            "text/plain": [
              "ID                                    0.000000\n",
              "Name                                  0.000000\n",
              "Age                                   0.000000\n",
              "Nationality                           0.000000\n",
              "Overall                               0.000000\n",
              "Potential                             0.000000\n",
              "Club                                  0.000000\n",
              "Value                                 0.000000\n",
              "Wage                                  0.000000\n",
              "Preferred Foot                        0.000000\n",
              "International Reputation              0.416840\n",
              "Skill Moves                           0.250104\n",
              "Position                              0.875365\n",
              "Joined                                0.000000\n",
              "Contract Valid Until                  0.000000\n",
              "Height                                0.000000\n",
              "Weight                                0.000000\n",
              "Release Clause                        0.125052\n",
              "Nationality_ismissing                 0.000000\n",
              "Club_ismissing                        0.000000\n",
              "Value_ismissing                       0.000000\n",
              "International Reputation_ismissing    0.000000\n",
              "Skill Moves_ismissing                 0.000000\n",
              "Position_ismissing                    0.000000\n",
              "Contract Valid Until_ismissing        0.000000\n",
              "Release Clause_ismissing              0.000000\n",
              "num_missing                           0.000000\n",
              "dtype: float64"
            ]
          },
          "metadata": {},
          "execution_count": 25
        }
      ]
    },
    {
      "cell_type": "code",
      "source": [
        "# Проверка наличия одинаковых значений в столбцах 'Overall' и 'Potential'\n",
        "if (data['Overall'] == data['Potential']).all():\n",
        "    print('Столбцы содержат одинаковые значения')\n",
        "else:\n",
        "    print('Столбцы содержат разные значения')\n"
      ],
      "metadata": {
        "colab": {
          "base_uri": "https://localhost:8080/"
        },
        "id": "E1YG7BtLR3nF",
        "outputId": "3052f11f-a422-41a7-dd16-a29b3d601dde"
      },
      "execution_count": 33,
      "outputs": [
        {
          "output_type": "stream",
          "name": "stdout",
          "text": [
            "Столбцы содержат разные значения\n"
          ]
        }
      ]
    },
    {
      "cell_type": "code",
      "source": [
        "data['Overall'].unique()"
      ],
      "metadata": {
        "colab": {
          "base_uri": "https://localhost:8080/"
        },
        "id": "tfZV0URAXWap",
        "outputId": "473cdcdb-90b0-4ce8-d369-629e2a7f39ae"
      },
      "execution_count": 40,
      "outputs": [
        {
          "output_type": "execute_result",
          "data": {
            "text/plain": [
              "array([88, 82, 70, 84, 61, 74, 94, 83, 66, 73, 76, 72, 62, 48, 63, 64, 71,\n",
              "       79, 68, 77, 86, 69, 81, 89, 67, 85, 80, 75, 60, 87, 91, 65, 90, 78,\n",
              "       58, 56, 59, 92, 57, 55, 54, 49, 53, 50, 52, 47, 51])"
            ]
          },
          "metadata": {},
          "execution_count": 40
        }
      ]
    },
    {
      "cell_type": "code",
      "source": [
        "data['Potential'].unique()"
      ],
      "metadata": {
        "colab": {
          "base_uri": "https://localhost:8080/"
        },
        "id": "ssjF3EM8Xct0",
        "outputId": "f0c7ae00-9d63-4fe4-80bc-df6a22b069f1"
      },
      "execution_count": 41,
      "outputs": [
        {
          "output_type": "execute_result",
          "data": {
            "text/plain": [
              "array([88, 82, 70, 84, 61, 74, 94, 83, 66, 73, 76, 72, 62, 48, 63, 64, 71,\n",
              "       79, 68, 77, 86, 69, 81, 89, 67, 85, 80, 75, 60, 87, 91, 65, 90, 78,\n",
              "       58, 56, 59, 93, 92, 57, 95, 53, 52, 55])"
            ]
          },
          "metadata": {},
          "execution_count": 41
        }
      ]
    },
    {
      "cell_type": "markdown",
      "source": [
        "###2. Найдите в датафрейме полные дубликаты и удалите их.<br>\n",
        "###Значения могут быть одинаковыми, но написаны по-разному.<br>\n",
        "###Например, может отличаться размер регистра (заглавные и строчные буквы).<br> Особое внимание уделить колонке с названиями команд."
      ],
      "metadata": {
        "id": "FCH3ykBzSgNj"
      }
    },
    {
      "cell_type": "code",
      "source": [
        "data.duplicated()"
      ],
      "metadata": {
        "colab": {
          "base_uri": "https://localhost:8080/"
        },
        "id": "H5mbFLoB1OzB",
        "outputId": "35e7527a-592c-4abb-c166-b8e7d3737aa9"
      },
      "execution_count": 19,
      "outputs": [
        {
          "output_type": "execute_result",
          "data": {
            "text/plain": [
              "0       False\n",
              "1       False\n",
              "2       False\n",
              "3       False\n",
              "4       False\n",
              "        ...  \n",
              "2394    False\n",
              "2395    False\n",
              "2396    False\n",
              "2397    False\n",
              "2398    False\n",
              "Length: 2399, dtype: bool"
            ]
          },
          "metadata": {},
          "execution_count": 19
        }
      ]
    },
    {
      "cell_type": "code",
      "source": [
        "# проверим дубликаты (их нет)\n",
        "data.duplicated()"
      ],
      "metadata": {
        "colab": {
          "base_uri": "https://localhost:8080/"
        },
        "id": "RqAzvOs-1OcY",
        "outputId": "8cfa7bde-6ee9-4c50-e7ab-82af64729841"
      },
      "execution_count": 20,
      "outputs": [
        {
          "output_type": "execute_result",
          "data": {
            "text/plain": [
              "0       False\n",
              "1       False\n",
              "2       False\n",
              "3       False\n",
              "4       False\n",
              "        ...  \n",
              "2394    False\n",
              "2395    False\n",
              "2396    False\n",
              "2397    False\n",
              "2398    False\n",
              "Length: 2399, dtype: bool"
            ]
          },
          "metadata": {},
          "execution_count": 20
        }
      ]
    },
    {
      "cell_type": "code",
      "source": [
        "# перепроверим, посчитаем дубликаты\n",
        "data.duplicated().sum()"
      ],
      "metadata": {
        "colab": {
          "base_uri": "https://localhost:8080/"
        },
        "id": "HXFfKCls9Z2d",
        "outputId": "0060ce3d-0933-4ab2-fb0b-20d19e0684d7"
      },
      "execution_count": 22,
      "outputs": [
        {
          "output_type": "execute_result",
          "data": {
            "text/plain": [
              "0"
            ]
          },
          "metadata": {},
          "execution_count": 22
        }
      ]
    },
    {
      "cell_type": "code",
      "source": [
        "# посмотрим по заданным столбцам дубликаты\n",
        "data.duplicated(subset = ['ID', 'Name', 'Club']).sum()"
      ],
      "metadata": {
        "colab": {
          "base_uri": "https://localhost:8080/"
        },
        "id": "eJqZF828PL2p",
        "outputId": "0f43ebc9-4b49-498c-82fc-add2969ea3f6"
      },
      "execution_count": 26,
      "outputs": [
        {
          "output_type": "execute_result",
          "data": {
            "text/plain": [
              "0"
            ]
          },
          "metadata": {},
          "execution_count": 26
        }
      ]
    },
    {
      "cell_type": "code",
      "source": [
        "# удаление неявных дубликатов\n",
        "data['Club'] = data['Club'].str.lower()\n",
        "data.duplicated().sum()"
      ],
      "metadata": {
        "colab": {
          "base_uri": "https://localhost:8080/"
        },
        "id": "F7YmF00bPKpq",
        "outputId": "8afdbd99-b04c-4613-eab0-f93a740fe526"
      },
      "execution_count": 34,
      "outputs": [
        {
          "output_type": "execute_result",
          "data": {
            "text/plain": [
              "2"
            ]
          },
          "metadata": {},
          "execution_count": 34
        }
      ]
    },
    {
      "cell_type": "markdown",
      "source": [
        "###3. Напишите функцию, которая добавит колонку с разбиением возраста по группам:<br>\n",
        "###до 20,<br>\n",
        "###от 20 до 30,<br>\n",
        "###от 30 до 36<br>\n",
        "###старше 36. <br>\n",
        "###Посчитайте количество футболистов в каждой категории."
      ],
      "metadata": {
        "id": "WFt8Be0kTWq1"
      }
    },
    {
      "cell_type": "code",
      "source": [
        "def Categorize_age(Age):\n",
        "  if Age < 20:\n",
        "    return 'до 20'\n",
        "  if 20 <= Age < 30:\n",
        "    return 'от 20 до 30'\n",
        "  if 30 <= Age < 36:\n",
        "    return 'от 30 до 36'\n",
        "  if 36 <= Age:\n",
        "    return 'старше 36'"
      ],
      "metadata": {
        "id": "itoHHMzET1MB"
      },
      "execution_count": 46,
      "outputs": []
    },
    {
      "cell_type": "code",
      "source": [
        "data['Categorize_age'] = data['Age'].apply(Categorize_age)\n",
        "data['Categorize_age'].value_counts()"
      ],
      "metadata": {
        "colab": {
          "base_uri": "https://localhost:8080/"
        },
        "id": "O1X4__hdWGBB",
        "outputId": "06315d46-366e-45df-8c0e-84dc051f45fb"
      },
      "execution_count": 47,
      "outputs": [
        {
          "output_type": "execute_result",
          "data": {
            "text/plain": [
              "от 20 до 30    1646\n",
              "от 30 до 36     460\n",
              "до 20           270\n",
              "старше 36        23\n",
              "Name: Categorize_age, dtype: int64"
            ]
          },
          "metadata": {},
          "execution_count": 47
        }
      ]
    }
  ]
}